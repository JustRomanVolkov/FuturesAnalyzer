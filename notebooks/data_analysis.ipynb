{
 "cells": [
  {
   "cell_type": "code",
   "execution_count": 22,
   "metadata": {
    "collapsed": true,
    "pycharm": {
     "name": "#%%\n"
    }
   },
   "outputs": [],
   "source": [
    "# -*- coding: utf-8 -*-\n",
    "import asyncio\n",
    "import json\n",
    "import pandas as pd\n",
    "from api.binance_api import get_signal_performance_data, get_previous_data, API_INTERVALS\n",
    "\n",
    "from utils.data_utils import extract_price, convert_to_dict_financial_data, get_previous_close_price_for_rsi\n",
    "from utils.finance_utils import calculate_rsi\n",
    "from utils.time_utils import convert_time_to_utc_millis\n",
    "\n",
    "from visualization.plot_utils import visualize_entry_point"
   ]
  },
  {
   "cell_type": "code",
   "execution_count": 23,
   "outputs": [],
   "source": [
    "file_path = '../signals_data/alert_from_algo.csv'\n",
    "signals_df = pd.read_csv(file_path)\n",
    "KLINE_BITCOIN_PUMP = 1"
   ],
   "metadata": {
    "collapsed": false,
    "pycharm": {
     "name": "#%%\n"
    }
   }
  },
  {
   "cell_type": "code",
   "execution_count": 24,
   "outputs": [],
   "source": [
    "signals_df.rename(columns={signals_df.columns[0]: 'id'}, inplace=True)\n",
    "signals_df.loc[signals_df['symbol'] == '‼️‼️‼️‼️‼️', 'symbol'] = 'BTCUSDT'\n",
    "signals_df.loc[signals_df['emoji'] == 'BITCOIN PUMP', 'emoji'] = '🌊🌊🌊'\n",
    "signals_df.loc[signals_df['kline'] == '‼️‼️‼️‼️‼️', 'kline'] = f'{KLINE_BITCOIN_PUMP} kline'\n",
    "signals_df['kline'] = signals_df['kline'].str.extract('(\\d+)').astype(int)\n",
    "signals_df['alert_price'] = signals_df['alert_price'].str.extract(r'(\\d+\\.\\d+)').astype(float)"
   ],
   "metadata": {
    "collapsed": false,
    "pycharm": {
     "name": "#%%\n"
    }
   }
  },
  {
   "cell_type": "code",
   "execution_count": 31,
   "outputs": [
    {
     "data": {
      "text/plain": "      id      symbol emoji  kline  alert_price                  Time_(MSK)\n0      0     ANTUSDT   💥💥💥      1      5.20100  2023-11-09 18:51:52.578000\n1      1     ANTUSDT   💥💥💥      1      5.20100  2023-11-09 18:51:52.578000\n2      2  PENDLEUSDT   💥💥💥      1      1.04230  2023-11-09 18:50:35.789000\n3      3  PENDLEUSDT   💥💥💥      1      1.04230  2023-11-09 18:50:35.789000\n4      4     YFIUSDT   💥💥💥      1   6868.00000  2023-11-09 18:48:24.505000\n..   ...         ...   ...    ...          ...                         ...\n96    96   AUDIOUSDT   💥💥💥      1      0.19150  2023-11-09 17:09:44.845000\n97    97   AUDIOUSDT   💥💥💥      1      0.19150  2023-11-09 17:09:44.845000\n98    98     SKLUSDT   🌊🌊🌊      2      0.03009  2023-11-09 17:01:41.917000\n99    99     GMXUSDT   🌊🌊🌊      2     50.42000  2023-11-09 17:01:33.226000\n100  100     GMXUSDT   🌊🌊🌊      2     50.42000  2023-11-09 17:01:33.226000\n\n[101 rows x 6 columns]",
      "text/html": "<div>\n<style scoped>\n    .dataframe tbody tr th:only-of-type {\n        vertical-align: middle;\n    }\n\n    .dataframe tbody tr th {\n        vertical-align: top;\n    }\n\n    .dataframe thead th {\n        text-align: right;\n    }\n</style>\n<table border=\"1\" class=\"dataframe\">\n  <thead>\n    <tr style=\"text-align: right;\">\n      <th></th>\n      <th>id</th>\n      <th>symbol</th>\n      <th>emoji</th>\n      <th>kline</th>\n      <th>alert_price</th>\n      <th>Time_(MSK)</th>\n    </tr>\n  </thead>\n  <tbody>\n    <tr>\n      <th>0</th>\n      <td>0</td>\n      <td>ANTUSDT</td>\n      <td>💥💥💥</td>\n      <td>1</td>\n      <td>5.20100</td>\n      <td>2023-11-09 18:51:52.578000</td>\n    </tr>\n    <tr>\n      <th>1</th>\n      <td>1</td>\n      <td>ANTUSDT</td>\n      <td>💥💥💥</td>\n      <td>1</td>\n      <td>5.20100</td>\n      <td>2023-11-09 18:51:52.578000</td>\n    </tr>\n    <tr>\n      <th>2</th>\n      <td>2</td>\n      <td>PENDLEUSDT</td>\n      <td>💥💥💥</td>\n      <td>1</td>\n      <td>1.04230</td>\n      <td>2023-11-09 18:50:35.789000</td>\n    </tr>\n    <tr>\n      <th>3</th>\n      <td>3</td>\n      <td>PENDLEUSDT</td>\n      <td>💥💥💥</td>\n      <td>1</td>\n      <td>1.04230</td>\n      <td>2023-11-09 18:50:35.789000</td>\n    </tr>\n    <tr>\n      <th>4</th>\n      <td>4</td>\n      <td>YFIUSDT</td>\n      <td>💥💥💥</td>\n      <td>1</td>\n      <td>6868.00000</td>\n      <td>2023-11-09 18:48:24.505000</td>\n    </tr>\n    <tr>\n      <th>...</th>\n      <td>...</td>\n      <td>...</td>\n      <td>...</td>\n      <td>...</td>\n      <td>...</td>\n      <td>...</td>\n    </tr>\n    <tr>\n      <th>96</th>\n      <td>96</td>\n      <td>AUDIOUSDT</td>\n      <td>💥💥💥</td>\n      <td>1</td>\n      <td>0.19150</td>\n      <td>2023-11-09 17:09:44.845000</td>\n    </tr>\n    <tr>\n      <th>97</th>\n      <td>97</td>\n      <td>AUDIOUSDT</td>\n      <td>💥💥💥</td>\n      <td>1</td>\n      <td>0.19150</td>\n      <td>2023-11-09 17:09:44.845000</td>\n    </tr>\n    <tr>\n      <th>98</th>\n      <td>98</td>\n      <td>SKLUSDT</td>\n      <td>🌊🌊🌊</td>\n      <td>2</td>\n      <td>0.03009</td>\n      <td>2023-11-09 17:01:41.917000</td>\n    </tr>\n    <tr>\n      <th>99</th>\n      <td>99</td>\n      <td>GMXUSDT</td>\n      <td>🌊🌊🌊</td>\n      <td>2</td>\n      <td>50.42000</td>\n      <td>2023-11-09 17:01:33.226000</td>\n    </tr>\n    <tr>\n      <th>100</th>\n      <td>100</td>\n      <td>GMXUSDT</td>\n      <td>🌊🌊🌊</td>\n      <td>2</td>\n      <td>50.42000</td>\n      <td>2023-11-09 17:01:33.226000</td>\n    </tr>\n  </tbody>\n</table>\n<p>101 rows × 6 columns</p>\n</div>"
     },
     "execution_count": 31,
     "metadata": {},
     "output_type": "execute_result"
    }
   ],
   "source": [
    "signals_df"
   ],
   "metadata": {
    "collapsed": false,
    "pycharm": {
     "name": "#%%\n"
    }
   }
  },
  {
   "cell_type": "code",
   "execution_count": 33,
   "outputs": [
    {
     "data": {
      "text/plain": "id               int64\nsymbol          object\nemoji           object\nkline            int32\nalert_price    float64\nTime_(MSK)      object\ndtype: object"
     },
     "execution_count": 33,
     "metadata": {},
     "output_type": "execute_result"
    }
   ],
   "source": [
    "signals_df.dtypes"
   ],
   "metadata": {
    "collapsed": false,
    "pycharm": {
     "name": "#%%\n"
    }
   }
  },
  {
   "cell_type": "code",
   "execution_count": 39,
   "outputs": [],
   "source": [
    "async def fetch_signal_data(row):\n",
    "    # Определение, является ли сигнал сигналом на повышение или понижение на основе эмодзи\n",
    "    if row['emoji'] == '💥💥💥':\n",
    "        rise=False # Сигнал на понижение\n",
    "    elif row['emoji'] == '🌊🌊🌊':\n",
    "        rise=True # Сигнал на повышение\n",
    "\n",
    "    # Извлечение данных о символе, цене оповещения и времени из строки DataFrame\n",
    "    symbol = row['symbol']\n",
    "    alert_price = row['alert_price']\n",
    "    clear_time = convert_time_to_utc_millis(row['Time_(MSK)'])\n",
    "\n",
    "    # Получение данных об эффективности сигнала\n",
    "    signal_data = await get_signal_performance_data(symbol, alert_price, clear_time, interval='1m', n_intervals=5, deviation_threshold=3, check_rise=rise)\n",
    "    signal_data = json.loads(signal_data)\n",
    "\n",
    "    return row['id'], signal_data['status'], signal_data['price_change']\n",
    "\n",
    "async def process_signals_df(signals_df):\n",
    "    # Создание асинхронных задач для обработки каждой строки DataFrame\n",
    "    tasks = [fetch_signal_data(row) for _, row in signals_df.iterrows()]\n",
    "    results = await asyncio.gather(*tasks) # Асинхронный запуск всех задач\n",
    "\n",
    "    # Преобразование результатов в DataFrame\n",
    "    results_df = pd.DataFrame(results, columns=['id', 'status', 'price_change'])\n",
    "    return results_df\n",
    "\n",
    "# Вызов асинхронной функции в Jupyter Notebook\n",
    "results_df = await process_signals_df(signals_df)\n",
    "\n",
    "# Объединение результатов с исходным DataFrame\n",
    "final_df = pd.merge(signals_df, results_df, on='id')\n"
   ],
   "metadata": {
    "collapsed": false,
    "pycharm": {
     "name": "#%%\n"
    }
   }
  },
  {
   "cell_type": "code",
   "execution_count": 40,
   "outputs": [
    {
     "data": {
      "text/plain": "      id      symbol emoji  kline  alert_price                  Time_(MSK)  \\\n0      0     ANTUSDT   💥💥💥      1      5.20100  2023-11-09 18:51:52.578000   \n1      1     ANTUSDT   💥💥💥      1      5.20100  2023-11-09 18:51:52.578000   \n2      2  PENDLEUSDT   💥💥💥      1      1.04230  2023-11-09 18:50:35.789000   \n3      3  PENDLEUSDT   💥💥💥      1      1.04230  2023-11-09 18:50:35.789000   \n4      4     YFIUSDT   💥💥💥      1   6868.00000  2023-11-09 18:48:24.505000   \n..   ...         ...   ...    ...          ...                         ...   \n96    96   AUDIOUSDT   💥💥💥      1      0.19150  2023-11-09 17:09:44.845000   \n97    97   AUDIOUSDT   💥💥💥      1      0.19150  2023-11-09 17:09:44.845000   \n98    98     SKLUSDT   🌊🌊🌊      2      0.03009  2023-11-09 17:01:41.917000   \n99    99     GMXUSDT   🌊🌊🌊      2     50.42000  2023-11-09 17:01:33.226000   \n100  100     GMXUSDT   🌊🌊🌊      2     50.42000  2023-11-09 17:01:33.226000   \n\n                                status  price_change  \n0                              Failure      0.269179  \n1                              Failure      0.269179  \n2                              Failure      0.892258  \n3                              Failure      0.892258  \n4                              Failure      0.291206  \n..                                 ...           ...  \n96                             Failure      0.731070  \n97                             Failure      0.731070  \n98   alert_price not in low-high range           NaN  \n99   alert_price not in low-high range           NaN  \n100  alert_price not in low-high range           NaN  \n\n[101 rows x 8 columns]",
      "text/html": "<div>\n<style scoped>\n    .dataframe tbody tr th:only-of-type {\n        vertical-align: middle;\n    }\n\n    .dataframe tbody tr th {\n        vertical-align: top;\n    }\n\n    .dataframe thead th {\n        text-align: right;\n    }\n</style>\n<table border=\"1\" class=\"dataframe\">\n  <thead>\n    <tr style=\"text-align: right;\">\n      <th></th>\n      <th>id</th>\n      <th>symbol</th>\n      <th>emoji</th>\n      <th>kline</th>\n      <th>alert_price</th>\n      <th>Time_(MSK)</th>\n      <th>status</th>\n      <th>price_change</th>\n    </tr>\n  </thead>\n  <tbody>\n    <tr>\n      <th>0</th>\n      <td>0</td>\n      <td>ANTUSDT</td>\n      <td>💥💥💥</td>\n      <td>1</td>\n      <td>5.20100</td>\n      <td>2023-11-09 18:51:52.578000</td>\n      <td>Failure</td>\n      <td>0.269179</td>\n    </tr>\n    <tr>\n      <th>1</th>\n      <td>1</td>\n      <td>ANTUSDT</td>\n      <td>💥💥💥</td>\n      <td>1</td>\n      <td>5.20100</td>\n      <td>2023-11-09 18:51:52.578000</td>\n      <td>Failure</td>\n      <td>0.269179</td>\n    </tr>\n    <tr>\n      <th>2</th>\n      <td>2</td>\n      <td>PENDLEUSDT</td>\n      <td>💥💥💥</td>\n      <td>1</td>\n      <td>1.04230</td>\n      <td>2023-11-09 18:50:35.789000</td>\n      <td>Failure</td>\n      <td>0.892258</td>\n    </tr>\n    <tr>\n      <th>3</th>\n      <td>3</td>\n      <td>PENDLEUSDT</td>\n      <td>💥💥💥</td>\n      <td>1</td>\n      <td>1.04230</td>\n      <td>2023-11-09 18:50:35.789000</td>\n      <td>Failure</td>\n      <td>0.892258</td>\n    </tr>\n    <tr>\n      <th>4</th>\n      <td>4</td>\n      <td>YFIUSDT</td>\n      <td>💥💥💥</td>\n      <td>1</td>\n      <td>6868.00000</td>\n      <td>2023-11-09 18:48:24.505000</td>\n      <td>Failure</td>\n      <td>0.291206</td>\n    </tr>\n    <tr>\n      <th>...</th>\n      <td>...</td>\n      <td>...</td>\n      <td>...</td>\n      <td>...</td>\n      <td>...</td>\n      <td>...</td>\n      <td>...</td>\n      <td>...</td>\n    </tr>\n    <tr>\n      <th>96</th>\n      <td>96</td>\n      <td>AUDIOUSDT</td>\n      <td>💥💥💥</td>\n      <td>1</td>\n      <td>0.19150</td>\n      <td>2023-11-09 17:09:44.845000</td>\n      <td>Failure</td>\n      <td>0.731070</td>\n    </tr>\n    <tr>\n      <th>97</th>\n      <td>97</td>\n      <td>AUDIOUSDT</td>\n      <td>💥💥💥</td>\n      <td>1</td>\n      <td>0.19150</td>\n      <td>2023-11-09 17:09:44.845000</td>\n      <td>Failure</td>\n      <td>0.731070</td>\n    </tr>\n    <tr>\n      <th>98</th>\n      <td>98</td>\n      <td>SKLUSDT</td>\n      <td>🌊🌊🌊</td>\n      <td>2</td>\n      <td>0.03009</td>\n      <td>2023-11-09 17:01:41.917000</td>\n      <td>alert_price not in low-high range</td>\n      <td>NaN</td>\n    </tr>\n    <tr>\n      <th>99</th>\n      <td>99</td>\n      <td>GMXUSDT</td>\n      <td>🌊🌊🌊</td>\n      <td>2</td>\n      <td>50.42000</td>\n      <td>2023-11-09 17:01:33.226000</td>\n      <td>alert_price not in low-high range</td>\n      <td>NaN</td>\n    </tr>\n    <tr>\n      <th>100</th>\n      <td>100</td>\n      <td>GMXUSDT</td>\n      <td>🌊🌊🌊</td>\n      <td>2</td>\n      <td>50.42000</td>\n      <td>2023-11-09 17:01:33.226000</td>\n      <td>alert_price not in low-high range</td>\n      <td>NaN</td>\n    </tr>\n  </tbody>\n</table>\n<p>101 rows × 8 columns</p>\n</div>"
     },
     "execution_count": 40,
     "metadata": {},
     "output_type": "execute_result"
    }
   ],
   "source": [
    "final_df"
   ],
   "metadata": {
    "collapsed": false,
    "pycharm": {
     "name": "#%%\n"
    }
   }
  },
  {
   "cell_type": "code",
   "execution_count": 41,
   "outputs": [
    {
     "data": {
      "text/plain": "                                   id  symbol  emoji  kline  alert_price  \\\nstatus                                                                     \nFailure                            56      56     56     56           56   \nalert_price not in low-high range  45      45     45     45           45   \n\n                                   Time_(MSK)  price_change  \nstatus                                                       \nFailure                                    56            56  \nalert_price not in low-high range          45             0  ",
      "text/html": "<div>\n<style scoped>\n    .dataframe tbody tr th:only-of-type {\n        vertical-align: middle;\n    }\n\n    .dataframe tbody tr th {\n        vertical-align: top;\n    }\n\n    .dataframe thead th {\n        text-align: right;\n    }\n</style>\n<table border=\"1\" class=\"dataframe\">\n  <thead>\n    <tr style=\"text-align: right;\">\n      <th></th>\n      <th>id</th>\n      <th>symbol</th>\n      <th>emoji</th>\n      <th>kline</th>\n      <th>alert_price</th>\n      <th>Time_(MSK)</th>\n      <th>price_change</th>\n    </tr>\n    <tr>\n      <th>status</th>\n      <th></th>\n      <th></th>\n      <th></th>\n      <th></th>\n      <th></th>\n      <th></th>\n      <th></th>\n    </tr>\n  </thead>\n  <tbody>\n    <tr>\n      <th>Failure</th>\n      <td>56</td>\n      <td>56</td>\n      <td>56</td>\n      <td>56</td>\n      <td>56</td>\n      <td>56</td>\n      <td>56</td>\n    </tr>\n    <tr>\n      <th>alert_price not in low-high range</th>\n      <td>45</td>\n      <td>45</td>\n      <td>45</td>\n      <td>45</td>\n      <td>45</td>\n      <td>45</td>\n      <td>0</td>\n    </tr>\n  </tbody>\n</table>\n</div>"
     },
     "execution_count": 41,
     "metadata": {},
     "output_type": "execute_result"
    }
   ],
   "source": [
    "status_counts = final_df.groupby('status').count()\n",
    "status_counts"
   ],
   "metadata": {
    "collapsed": false,
    "pycharm": {
     "name": "#%%\n"
    }
   }
  },
  {
   "cell_type": "code",
   "execution_count": 42,
   "outputs": [
    {
     "ename": "KeyError",
     "evalue": "'Success'",
     "output_type": "error",
     "traceback": [
      "\u001B[1;31m---------------------------------------------------------------------------\u001B[0m",
      "\u001B[1;31mKeyError\u001B[0m                                  Traceback (most recent call last)",
      "File \u001B[1;32m~\\PycharmProjects\\algo\\venv\\lib\\site-packages\\pandas\\core\\indexes\\base.py:3791\u001B[0m, in \u001B[0;36mIndex.get_loc\u001B[1;34m(self, key)\u001B[0m\n\u001B[0;32m   3790\u001B[0m \u001B[38;5;28;01mtry\u001B[39;00m:\n\u001B[1;32m-> 3791\u001B[0m     \u001B[38;5;28;01mreturn\u001B[39;00m \u001B[38;5;28;43mself\u001B[39;49m\u001B[38;5;241;43m.\u001B[39;49m\u001B[43m_engine\u001B[49m\u001B[38;5;241;43m.\u001B[39;49m\u001B[43mget_loc\u001B[49m\u001B[43m(\u001B[49m\u001B[43mcasted_key\u001B[49m\u001B[43m)\u001B[49m\n\u001B[0;32m   3792\u001B[0m \u001B[38;5;28;01mexcept\u001B[39;00m \u001B[38;5;167;01mKeyError\u001B[39;00m \u001B[38;5;28;01mas\u001B[39;00m err:\n",
      "File \u001B[1;32mindex.pyx:152\u001B[0m, in \u001B[0;36mpandas._libs.index.IndexEngine.get_loc\u001B[1;34m()\u001B[0m\n",
      "File \u001B[1;32mindex.pyx:181\u001B[0m, in \u001B[0;36mpandas._libs.index.IndexEngine.get_loc\u001B[1;34m()\u001B[0m\n",
      "File \u001B[1;32mpandas\\_libs\\hashtable_class_helper.pxi:7080\u001B[0m, in \u001B[0;36mpandas._libs.hashtable.PyObjectHashTable.get_item\u001B[1;34m()\u001B[0m\n",
      "File \u001B[1;32mpandas\\_libs\\hashtable_class_helper.pxi:7088\u001B[0m, in \u001B[0;36mpandas._libs.hashtable.PyObjectHashTable.get_item\u001B[1;34m()\u001B[0m\n",
      "\u001B[1;31mKeyError\u001B[0m: 'Success'",
      "\nThe above exception was the direct cause of the following exception:\n",
      "\u001B[1;31mKeyError\u001B[0m                                  Traceback (most recent call last)",
      "Cell \u001B[1;32mIn[42], line 1\u001B[0m\n\u001B[1;32m----> 1\u001B[0m success_count \u001B[38;5;241m=\u001B[39m \u001B[43mstatus_counts\u001B[49m\u001B[38;5;241;43m.\u001B[39;49m\u001B[43mloc\u001B[49m\u001B[43m[\u001B[49m\u001B[38;5;124;43m'\u001B[39;49m\u001B[38;5;124;43mSuccess\u001B[39;49m\u001B[38;5;124;43m'\u001B[39;49m\u001B[43m,\u001B[49m\u001B[43m \u001B[49m\u001B[38;5;124;43m'\u001B[39;49m\u001B[38;5;124;43mkline\u001B[39;49m\u001B[38;5;124;43m'\u001B[39;49m\u001B[43m]\u001B[49m\n\u001B[0;32m      2\u001B[0m \u001B[38;5;124mf\u001B[39m\u001B[38;5;124m'\u001B[39m\u001B[38;5;124mКоличество успешных сигналов: \u001B[39m\u001B[38;5;132;01m{\u001B[39;00msuccess_count\u001B[38;5;132;01m}\u001B[39;00m\u001B[38;5;124m'\u001B[39m\n",
      "File \u001B[1;32m~\\PycharmProjects\\algo\\venv\\lib\\site-packages\\pandas\\core\\indexing.py:1146\u001B[0m, in \u001B[0;36m_LocationIndexer.__getitem__\u001B[1;34m(self, key)\u001B[0m\n\u001B[0;32m   1144\u001B[0m     key \u001B[38;5;241m=\u001B[39m \u001B[38;5;28mtuple\u001B[39m(com\u001B[38;5;241m.\u001B[39mapply_if_callable(x, \u001B[38;5;28mself\u001B[39m\u001B[38;5;241m.\u001B[39mobj) \u001B[38;5;28;01mfor\u001B[39;00m x \u001B[38;5;129;01min\u001B[39;00m key)\n\u001B[0;32m   1145\u001B[0m     \u001B[38;5;28;01mif\u001B[39;00m \u001B[38;5;28mself\u001B[39m\u001B[38;5;241m.\u001B[39m_is_scalar_access(key):\n\u001B[1;32m-> 1146\u001B[0m         \u001B[38;5;28;01mreturn\u001B[39;00m \u001B[38;5;28;43mself\u001B[39;49m\u001B[38;5;241;43m.\u001B[39;49m\u001B[43mobj\u001B[49m\u001B[38;5;241;43m.\u001B[39;49m\u001B[43m_get_value\u001B[49m\u001B[43m(\u001B[49m\u001B[38;5;241;43m*\u001B[39;49m\u001B[43mkey\u001B[49m\u001B[43m,\u001B[49m\u001B[43m \u001B[49m\u001B[43mtakeable\u001B[49m\u001B[38;5;241;43m=\u001B[39;49m\u001B[38;5;28;43mself\u001B[39;49m\u001B[38;5;241;43m.\u001B[39;49m\u001B[43m_takeable\u001B[49m\u001B[43m)\u001B[49m\n\u001B[0;32m   1147\u001B[0m     \u001B[38;5;28;01mreturn\u001B[39;00m \u001B[38;5;28mself\u001B[39m\u001B[38;5;241m.\u001B[39m_getitem_tuple(key)\n\u001B[0;32m   1148\u001B[0m \u001B[38;5;28;01melse\u001B[39;00m:\n\u001B[0;32m   1149\u001B[0m     \u001B[38;5;66;03m# we by definition only have the 0th axis\u001B[39;00m\n",
      "File \u001B[1;32m~\\PycharmProjects\\algo\\venv\\lib\\site-packages\\pandas\\core\\frame.py:4012\u001B[0m, in \u001B[0;36mDataFrame._get_value\u001B[1;34m(self, index, col, takeable)\u001B[0m\n\u001B[0;32m   4006\u001B[0m engine \u001B[38;5;241m=\u001B[39m \u001B[38;5;28mself\u001B[39m\u001B[38;5;241m.\u001B[39mindex\u001B[38;5;241m.\u001B[39m_engine\n\u001B[0;32m   4008\u001B[0m \u001B[38;5;28;01mif\u001B[39;00m \u001B[38;5;129;01mnot\u001B[39;00m \u001B[38;5;28misinstance\u001B[39m(\u001B[38;5;28mself\u001B[39m\u001B[38;5;241m.\u001B[39mindex, MultiIndex):\n\u001B[0;32m   4009\u001B[0m     \u001B[38;5;66;03m# CategoricalIndex: Trying to use the engine fastpath may give incorrect\u001B[39;00m\n\u001B[0;32m   4010\u001B[0m     \u001B[38;5;66;03m#  results if our categories are integers that dont match our codes\u001B[39;00m\n\u001B[0;32m   4011\u001B[0m     \u001B[38;5;66;03m# IntervalIndex: IntervalTree has no get_loc\u001B[39;00m\n\u001B[1;32m-> 4012\u001B[0m     row \u001B[38;5;241m=\u001B[39m \u001B[38;5;28;43mself\u001B[39;49m\u001B[38;5;241;43m.\u001B[39;49m\u001B[43mindex\u001B[49m\u001B[38;5;241;43m.\u001B[39;49m\u001B[43mget_loc\u001B[49m\u001B[43m(\u001B[49m\u001B[43mindex\u001B[49m\u001B[43m)\u001B[49m\n\u001B[0;32m   4013\u001B[0m     \u001B[38;5;28;01mreturn\u001B[39;00m series\u001B[38;5;241m.\u001B[39m_values[row]\n\u001B[0;32m   4015\u001B[0m \u001B[38;5;66;03m# For MultiIndex going through engine effectively restricts us to\u001B[39;00m\n\u001B[0;32m   4016\u001B[0m \u001B[38;5;66;03m#  same-length tuples; see test_get_set_value_no_partial_indexing\u001B[39;00m\n",
      "File \u001B[1;32m~\\PycharmProjects\\algo\\venv\\lib\\site-packages\\pandas\\core\\indexes\\base.py:3798\u001B[0m, in \u001B[0;36mIndex.get_loc\u001B[1;34m(self, key)\u001B[0m\n\u001B[0;32m   3793\u001B[0m     \u001B[38;5;28;01mif\u001B[39;00m \u001B[38;5;28misinstance\u001B[39m(casted_key, \u001B[38;5;28mslice\u001B[39m) \u001B[38;5;129;01mor\u001B[39;00m (\n\u001B[0;32m   3794\u001B[0m         \u001B[38;5;28misinstance\u001B[39m(casted_key, abc\u001B[38;5;241m.\u001B[39mIterable)\n\u001B[0;32m   3795\u001B[0m         \u001B[38;5;129;01mand\u001B[39;00m \u001B[38;5;28many\u001B[39m(\u001B[38;5;28misinstance\u001B[39m(x, \u001B[38;5;28mslice\u001B[39m) \u001B[38;5;28;01mfor\u001B[39;00m x \u001B[38;5;129;01min\u001B[39;00m casted_key)\n\u001B[0;32m   3796\u001B[0m     ):\n\u001B[0;32m   3797\u001B[0m         \u001B[38;5;28;01mraise\u001B[39;00m InvalidIndexError(key)\n\u001B[1;32m-> 3798\u001B[0m     \u001B[38;5;28;01mraise\u001B[39;00m \u001B[38;5;167;01mKeyError\u001B[39;00m(key) \u001B[38;5;28;01mfrom\u001B[39;00m \u001B[38;5;21;01merr\u001B[39;00m\n\u001B[0;32m   3799\u001B[0m \u001B[38;5;28;01mexcept\u001B[39;00m \u001B[38;5;167;01mTypeError\u001B[39;00m:\n\u001B[0;32m   3800\u001B[0m     \u001B[38;5;66;03m# If we have a listlike key, _check_indexing_error will raise\u001B[39;00m\n\u001B[0;32m   3801\u001B[0m     \u001B[38;5;66;03m#  InvalidIndexError. Otherwise we fall through and re-raise\u001B[39;00m\n\u001B[0;32m   3802\u001B[0m     \u001B[38;5;66;03m#  the TypeError.\u001B[39;00m\n\u001B[0;32m   3803\u001B[0m     \u001B[38;5;28mself\u001B[39m\u001B[38;5;241m.\u001B[39m_check_indexing_error(key)\n",
      "\u001B[1;31mKeyError\u001B[0m: 'Success'"
     ]
    }
   ],
   "source": [
    "success_count = status_counts.loc['Success', 'kline']\n",
    "f'Количество успешных сигналов: {success_count}'"
   ],
   "metadata": {
    "collapsed": false,
    "pycharm": {
     "name": "#%%\n"
    }
   }
  },
  {
   "cell_type": "code",
   "execution_count": 30,
   "outputs": [],
   "source": [
    "async def calculate_rsi_for_row(symbol, time, interval='1m', period=14):\n",
    "    start_time = convert_time_to_utc_millis(time)\n",
    "    historical_data = await get_previous_data(symbol, start_time, interval, period)\n",
    "    close_prices_list = [item['Close'] for item in historical_data]\n",
    "    rsi_values = json.loads(calculate_rsi(close_prices_list))\n",
    "    return rsi_values['rsi_list'][-1]  # Returns the latest RSI value\n",
    "\n",
    "async def append_rsi_to_dataframe(df):\n",
    "    rsi_data = []\n",
    "    for _, row in df.iterrows():\n",
    "        rsi_value = await calculate_rsi_for_row(row['symbol'], row['Time_(MSK)'])\n",
    "        rsi_data.append({'id': row['id'], 'RSI': rsi_value})\n",
    "\n",
    "    rsi_df = pd.DataFrame(rsi_data)\n",
    "    merged_df = pd.merge(df, rsi_df, on='id')\n",
    "    return merged_df\n",
    "\n",
    "# Calculate and append RSI values\n",
    "final_df_with_rsi = await append_rsi_to_dataframe(final_df)"
   ],
   "metadata": {
    "collapsed": false,
    "pycharm": {
     "name": "#%%\n"
    }
   }
  },
  {
   "cell_type": "code",
   "execution_count": 34,
   "outputs": [
    {
     "data": {
      "text/plain": "      id      symbol emoji  kline  alert_price                  Time_(MSK)  \\\n0      0     ANTUSDT   💥💥💥      1      5.20100  2023-11-09 18:51:52.578000   \n1      1     ANTUSDT   💥💥💥      1      5.20100  2023-11-09 18:51:52.578000   \n2      2  PENDLEUSDT   💥💥💥      1      1.04230  2023-11-09 18:50:35.789000   \n3      3  PENDLEUSDT   💥💥💥      1      1.04230  2023-11-09 18:50:35.789000   \n4      4     YFIUSDT   💥💥💥      1   6868.00000  2023-11-09 18:48:24.505000   \n..   ...         ...   ...    ...          ...                         ...   \n96    96   AUDIOUSDT   💥💥💥      1      0.19150  2023-11-09 17:09:44.845000   \n97    97   AUDIOUSDT   💥💥💥      1      0.19150  2023-11-09 17:09:44.845000   \n98    98     SKLUSDT   🌊🌊🌊      2      0.03009  2023-11-09 17:01:41.917000   \n99    99     GMXUSDT   🌊🌊🌊      2     50.42000  2023-11-09 17:01:33.226000   \n100  100     GMXUSDT   🌊🌊🌊      2     50.42000  2023-11-09 17:01:33.226000   \n\n                                status  price_change        RSI  \n0                              Failure     -0.711402  66.842105  \n1                              Failure     -0.711402  66.842105  \n2                              Failure     -0.316608  70.331950  \n3                              Failure     -0.316608  70.331950  \n4                              Failure     -0.436808  60.765550  \n..                                 ...           ...        ...  \n96                             Failure      0.000000  76.470588  \n97                             Failure      0.000000  76.470588  \n98   alert_price not in low-high range           NaN  90.697674  \n99   alert_price not in low-high range           NaN  77.551020  \n100  alert_price not in low-high range           NaN  77.551020  \n\n[101 rows x 9 columns]",
      "text/html": "<div>\n<style scoped>\n    .dataframe tbody tr th:only-of-type {\n        vertical-align: middle;\n    }\n\n    .dataframe tbody tr th {\n        vertical-align: top;\n    }\n\n    .dataframe thead th {\n        text-align: right;\n    }\n</style>\n<table border=\"1\" class=\"dataframe\">\n  <thead>\n    <tr style=\"text-align: right;\">\n      <th></th>\n      <th>id</th>\n      <th>symbol</th>\n      <th>emoji</th>\n      <th>kline</th>\n      <th>alert_price</th>\n      <th>Time_(MSK)</th>\n      <th>status</th>\n      <th>price_change</th>\n      <th>RSI</th>\n    </tr>\n  </thead>\n  <tbody>\n    <tr>\n      <th>0</th>\n      <td>0</td>\n      <td>ANTUSDT</td>\n      <td>💥💥💥</td>\n      <td>1</td>\n      <td>5.20100</td>\n      <td>2023-11-09 18:51:52.578000</td>\n      <td>Failure</td>\n      <td>-0.711402</td>\n      <td>66.842105</td>\n    </tr>\n    <tr>\n      <th>1</th>\n      <td>1</td>\n      <td>ANTUSDT</td>\n      <td>💥💥💥</td>\n      <td>1</td>\n      <td>5.20100</td>\n      <td>2023-11-09 18:51:52.578000</td>\n      <td>Failure</td>\n      <td>-0.711402</td>\n      <td>66.842105</td>\n    </tr>\n    <tr>\n      <th>2</th>\n      <td>2</td>\n      <td>PENDLEUSDT</td>\n      <td>💥💥💥</td>\n      <td>1</td>\n      <td>1.04230</td>\n      <td>2023-11-09 18:50:35.789000</td>\n      <td>Failure</td>\n      <td>-0.316608</td>\n      <td>70.331950</td>\n    </tr>\n    <tr>\n      <th>3</th>\n      <td>3</td>\n      <td>PENDLEUSDT</td>\n      <td>💥💥💥</td>\n      <td>1</td>\n      <td>1.04230</td>\n      <td>2023-11-09 18:50:35.789000</td>\n      <td>Failure</td>\n      <td>-0.316608</td>\n      <td>70.331950</td>\n    </tr>\n    <tr>\n      <th>4</th>\n      <td>4</td>\n      <td>YFIUSDT</td>\n      <td>💥💥💥</td>\n      <td>1</td>\n      <td>6868.00000</td>\n      <td>2023-11-09 18:48:24.505000</td>\n      <td>Failure</td>\n      <td>-0.436808</td>\n      <td>60.765550</td>\n    </tr>\n    <tr>\n      <th>...</th>\n      <td>...</td>\n      <td>...</td>\n      <td>...</td>\n      <td>...</td>\n      <td>...</td>\n      <td>...</td>\n      <td>...</td>\n      <td>...</td>\n      <td>...</td>\n    </tr>\n    <tr>\n      <th>96</th>\n      <td>96</td>\n      <td>AUDIOUSDT</td>\n      <td>💥💥💥</td>\n      <td>1</td>\n      <td>0.19150</td>\n      <td>2023-11-09 17:09:44.845000</td>\n      <td>Failure</td>\n      <td>0.000000</td>\n      <td>76.470588</td>\n    </tr>\n    <tr>\n      <th>97</th>\n      <td>97</td>\n      <td>AUDIOUSDT</td>\n      <td>💥💥💥</td>\n      <td>1</td>\n      <td>0.19150</td>\n      <td>2023-11-09 17:09:44.845000</td>\n      <td>Failure</td>\n      <td>0.000000</td>\n      <td>76.470588</td>\n    </tr>\n    <tr>\n      <th>98</th>\n      <td>98</td>\n      <td>SKLUSDT</td>\n      <td>🌊🌊🌊</td>\n      <td>2</td>\n      <td>0.03009</td>\n      <td>2023-11-09 17:01:41.917000</td>\n      <td>alert_price not in low-high range</td>\n      <td>NaN</td>\n      <td>90.697674</td>\n    </tr>\n    <tr>\n      <th>99</th>\n      <td>99</td>\n      <td>GMXUSDT</td>\n      <td>🌊🌊🌊</td>\n      <td>2</td>\n      <td>50.42000</td>\n      <td>2023-11-09 17:01:33.226000</td>\n      <td>alert_price not in low-high range</td>\n      <td>NaN</td>\n      <td>77.551020</td>\n    </tr>\n    <tr>\n      <th>100</th>\n      <td>100</td>\n      <td>GMXUSDT</td>\n      <td>🌊🌊🌊</td>\n      <td>2</td>\n      <td>50.42000</td>\n      <td>2023-11-09 17:01:33.226000</td>\n      <td>alert_price not in low-high range</td>\n      <td>NaN</td>\n      <td>77.551020</td>\n    </tr>\n  </tbody>\n</table>\n<p>101 rows × 9 columns</p>\n</div>"
     },
     "execution_count": 34,
     "metadata": {},
     "output_type": "execute_result"
    }
   ],
   "source": [
    "final_df_with_rsi"
   ],
   "metadata": {
    "collapsed": false,
    "pycharm": {
     "name": "#%%\n"
    }
   }
  },
  {
   "cell_type": "code",
   "execution_count": null,
   "outputs": [],
   "source": [],
   "metadata": {
    "collapsed": false,
    "pycharm": {
     "name": "#%%\n"
    }
   }
  }
 ],
 "metadata": {
  "kernelspec": {
   "display_name": "Python 3",
   "language": "python",
   "name": "python3"
  },
  "language_info": {
   "codemirror_mode": {
    "name": "ipython",
    "version": 2
   },
   "file_extension": ".py",
   "mimetype": "text/x-python",
   "name": "python",
   "nbconvert_exporter": "python",
   "pygments_lexer": "ipython2",
   "version": "2.7.6"
  }
 },
 "nbformat": 4,
 "nbformat_minor": 0
}