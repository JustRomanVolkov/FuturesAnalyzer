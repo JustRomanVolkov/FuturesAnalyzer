{
 "cells": [
  {
   "cell_type": "code",
   "execution_count": 1,
   "metadata": {
    "collapsed": true,
    "pycharm": {
     "name": "#%%\n"
    }
   },
   "outputs": [],
   "source": [
    "# -*- coding: utf-8 -*-\n",
    "import asyncio\n",
    "import pandas as pd\n",
    "from main import *"
   ]
  },
  {
   "cell_type": "code",
   "execution_count": 2,
   "outputs": [],
   "source": [
    "file_path = '../signals_data/alert_from_algo.csv'\n",
    "signals_df = pd.read_csv(file_path)\n",
    "KLINE_BITCOIN_PUMP = 1"
   ],
   "metadata": {
    "collapsed": false,
    "pycharm": {
     "name": "#%%\n"
    }
   }
  },
  {
   "cell_type": "code",
   "execution_count": 3,
   "outputs": [],
   "source": [
    "signals_df.rename(columns={signals_df.columns[0]: 'id'}, inplace=True)\n",
    "signals_df.loc[signals_df['symbol'] == '‼️‼️‼️‼️‼️', 'symbol'] = 'BTCUSDT'\n",
    "signals_df.loc[signals_df['emoji'] == 'BITCOIN PUMP', 'emoji'] = '🌊🌊🌊'\n",
    "signals_df.loc[signals_df['kline'] == '‼️‼️‼️‼️‼️', 'kline'] = f'{KLINE_BITCOIN_PUMP} kline'\n",
    "signals_df['kline'] = signals_df['kline'].str.extract('(\\d+)').astype(int)\n",
    "signals_df['alert_price'] = signals_df['alert_price'].str.extract(r'(\\d+\\.\\d+)').astype(float)"
   ],
   "metadata": {
    "collapsed": false,
    "pycharm": {
     "name": "#%%\n"
    }
   }
  },
  {
   "cell_type": "code",
   "execution_count": 4,
   "outputs": [
    {
     "data": {
      "text/plain": "      id      symbol emoji  kline  alert_price                  Time_(MSK)\n0      0     ANTUSDT   💥💥💥      1      5.20100  2023-11-09 18:51:52.578000\n1      1     ANTUSDT   💥💥💥      1      5.20100  2023-11-09 18:51:52.578000\n2      2  PENDLEUSDT   💥💥💥      1      1.04230  2023-11-09 18:50:35.789000\n3      3  PENDLEUSDT   💥💥💥      1      1.04230  2023-11-09 18:50:35.789000\n4      4     YFIUSDT   💥💥💥      1   6868.00000  2023-11-09 18:48:24.505000\n..   ...         ...   ...    ...          ...                         ...\n96    96   AUDIOUSDT   💥💥💥      1      0.19150  2023-11-09 17:09:44.845000\n97    97   AUDIOUSDT   💥💥💥      1      0.19150  2023-11-09 17:09:44.845000\n98    98     SKLUSDT   🌊🌊🌊      2      0.03009  2023-11-09 17:01:41.917000\n99    99     GMXUSDT   🌊🌊🌊      2     50.42000  2023-11-09 17:01:33.226000\n100  100     GMXUSDT   🌊🌊🌊      2     50.42000  2023-11-09 17:01:33.226000\n\n[101 rows x 6 columns]",
      "text/html": "<div>\n<style scoped>\n    .dataframe tbody tr th:only-of-type {\n        vertical-align: middle;\n    }\n\n    .dataframe tbody tr th {\n        vertical-align: top;\n    }\n\n    .dataframe thead th {\n        text-align: right;\n    }\n</style>\n<table border=\"1\" class=\"dataframe\">\n  <thead>\n    <tr style=\"text-align: right;\">\n      <th></th>\n      <th>id</th>\n      <th>symbol</th>\n      <th>emoji</th>\n      <th>kline</th>\n      <th>alert_price</th>\n      <th>Time_(MSK)</th>\n    </tr>\n  </thead>\n  <tbody>\n    <tr>\n      <th>0</th>\n      <td>0</td>\n      <td>ANTUSDT</td>\n      <td>💥💥💥</td>\n      <td>1</td>\n      <td>5.20100</td>\n      <td>2023-11-09 18:51:52.578000</td>\n    </tr>\n    <tr>\n      <th>1</th>\n      <td>1</td>\n      <td>ANTUSDT</td>\n      <td>💥💥💥</td>\n      <td>1</td>\n      <td>5.20100</td>\n      <td>2023-11-09 18:51:52.578000</td>\n    </tr>\n    <tr>\n      <th>2</th>\n      <td>2</td>\n      <td>PENDLEUSDT</td>\n      <td>💥💥💥</td>\n      <td>1</td>\n      <td>1.04230</td>\n      <td>2023-11-09 18:50:35.789000</td>\n    </tr>\n    <tr>\n      <th>3</th>\n      <td>3</td>\n      <td>PENDLEUSDT</td>\n      <td>💥💥💥</td>\n      <td>1</td>\n      <td>1.04230</td>\n      <td>2023-11-09 18:50:35.789000</td>\n    </tr>\n    <tr>\n      <th>4</th>\n      <td>4</td>\n      <td>YFIUSDT</td>\n      <td>💥💥💥</td>\n      <td>1</td>\n      <td>6868.00000</td>\n      <td>2023-11-09 18:48:24.505000</td>\n    </tr>\n    <tr>\n      <th>...</th>\n      <td>...</td>\n      <td>...</td>\n      <td>...</td>\n      <td>...</td>\n      <td>...</td>\n      <td>...</td>\n    </tr>\n    <tr>\n      <th>96</th>\n      <td>96</td>\n      <td>AUDIOUSDT</td>\n      <td>💥💥💥</td>\n      <td>1</td>\n      <td>0.19150</td>\n      <td>2023-11-09 17:09:44.845000</td>\n    </tr>\n    <tr>\n      <th>97</th>\n      <td>97</td>\n      <td>AUDIOUSDT</td>\n      <td>💥💥💥</td>\n      <td>1</td>\n      <td>0.19150</td>\n      <td>2023-11-09 17:09:44.845000</td>\n    </tr>\n    <tr>\n      <th>98</th>\n      <td>98</td>\n      <td>SKLUSDT</td>\n      <td>🌊🌊🌊</td>\n      <td>2</td>\n      <td>0.03009</td>\n      <td>2023-11-09 17:01:41.917000</td>\n    </tr>\n    <tr>\n      <th>99</th>\n      <td>99</td>\n      <td>GMXUSDT</td>\n      <td>🌊🌊🌊</td>\n      <td>2</td>\n      <td>50.42000</td>\n      <td>2023-11-09 17:01:33.226000</td>\n    </tr>\n    <tr>\n      <th>100</th>\n      <td>100</td>\n      <td>GMXUSDT</td>\n      <td>🌊🌊🌊</td>\n      <td>2</td>\n      <td>50.42000</td>\n      <td>2023-11-09 17:01:33.226000</td>\n    </tr>\n  </tbody>\n</table>\n<p>101 rows × 6 columns</p>\n</div>"
     },
     "execution_count": 4,
     "metadata": {},
     "output_type": "execute_result"
    }
   ],
   "source": [
    "signals_df"
   ],
   "metadata": {
    "collapsed": false,
    "pycharm": {
     "name": "#%%\n"
    }
   }
  },
  {
   "cell_type": "code",
   "execution_count": 5,
   "outputs": [
    {
     "data": {
      "text/plain": "id               int64\nsymbol          object\nemoji           object\nkline            int32\nalert_price    float64\nTime_(MSK)      object\ndtype: object"
     },
     "execution_count": 5,
     "metadata": {},
     "output_type": "execute_result"
    }
   ],
   "source": [
    "signals_df.dtypes"
   ],
   "metadata": {
    "collapsed": false,
    "pycharm": {
     "name": "#%%\n"
    }
   }
  },
  {
   "cell_type": "code",
   "execution_count": 6,
   "outputs": [],
   "source": [
    "async def fetch_signal_data(row):\n",
    "    if row['emoji'] == '💥💥💥':\n",
    "        rise=False\n",
    "    elif row['emoji'] == '🌊🌊🌊':\n",
    "        rise=True\n",
    "    symbol = row['symbol']\n",
    "    alert_price = row['alert_price']\n",
    "    clear_time = convert_time_to_utc_millis(row['Time_(MSK)'])\n",
    "\n",
    "    signal_data = await get_signal_performance_data(symbol, alert_price, clear_time, interval='1m', n_intervals=5, deviation_threshold=3, check_rise=rise)\n",
    "    signal_data = json.loads(signal_data)\n",
    "\n",
    "    return row['id'], signal_data['status'], signal_data['price_change']\n",
    "\n",
    "async def process_signals_df(signals_df):\n",
    "    tasks = [fetch_signal_data(row) for _, row in signals_df.iterrows()]\n",
    "    results = await asyncio.gather(*tasks)\n",
    "\n",
    "    # Преобразование результатов в DataFrame\n",
    "    results_df = pd.DataFrame(results, columns=['id', 'status', 'price_change'])\n",
    "    return results_df\n",
    "\n",
    "# Вызов асинхронной функции в Jupyter Notebook\n",
    "results_df = await process_signals_df(signals_df)\n",
    "\n",
    "# Объединение результатов с исходным DataFrame\n",
    "final_df = pd.merge(signals_df, results_df, on='id')\n"
   ],
   "metadata": {
    "collapsed": false,
    "pycharm": {
     "name": "#%%\n"
    }
   }
  },
  {
   "cell_type": "code",
   "execution_count": 7,
   "outputs": [
    {
     "data": {
      "text/plain": "      id      symbol emoji  kline  alert_price                  Time_(MSK)  \\\n0      0     ANTUSDT   💥💥💥      1      5.20100  2023-11-09 18:51:52.578000   \n1      1     ANTUSDT   💥💥💥      1      5.20100  2023-11-09 18:51:52.578000   \n2      2  PENDLEUSDT   💥💥💥      1      1.04230  2023-11-09 18:50:35.789000   \n3      3  PENDLEUSDT   💥💥💥      1      1.04230  2023-11-09 18:50:35.789000   \n4      4     YFIUSDT   💥💥💥      1   6868.00000  2023-11-09 18:48:24.505000   \n..   ...         ...   ...    ...          ...                         ...   \n96    96   AUDIOUSDT   💥💥💥      1      0.19150  2023-11-09 17:09:44.845000   \n97    97   AUDIOUSDT   💥💥💥      1      0.19150  2023-11-09 17:09:44.845000   \n98    98     SKLUSDT   🌊🌊🌊      2      0.03009  2023-11-09 17:01:41.917000   \n99    99     GMXUSDT   🌊🌊🌊      2     50.42000  2023-11-09 17:01:33.226000   \n100  100     GMXUSDT   🌊🌊🌊      2     50.42000  2023-11-09 17:01:33.226000   \n\n                                                status  price_change  \n0                                              Failure     -0.711402  \n1                                              Failure     -0.711402  \n2                                              Failure     -0.316608  \n3                                              Failure     -0.316608  \n4                                              Failure     -0.436808  \n..                                                 ...           ...  \n96                                             Failure      0.000000  \n97                                             Failure      0.000000  \n98   alert_price 0.03009 not in low-high range: 0.0...           NaN  \n99   alert_price 50.42 not in low-high range: 50.24...           NaN  \n100  alert_price 50.42 not in low-high range: 50.24...           NaN  \n\n[101 rows x 8 columns]",
      "text/html": "<div>\n<style scoped>\n    .dataframe tbody tr th:only-of-type {\n        vertical-align: middle;\n    }\n\n    .dataframe tbody tr th {\n        vertical-align: top;\n    }\n\n    .dataframe thead th {\n        text-align: right;\n    }\n</style>\n<table border=\"1\" class=\"dataframe\">\n  <thead>\n    <tr style=\"text-align: right;\">\n      <th></th>\n      <th>id</th>\n      <th>symbol</th>\n      <th>emoji</th>\n      <th>kline</th>\n      <th>alert_price</th>\n      <th>Time_(MSK)</th>\n      <th>status</th>\n      <th>price_change</th>\n    </tr>\n  </thead>\n  <tbody>\n    <tr>\n      <th>0</th>\n      <td>0</td>\n      <td>ANTUSDT</td>\n      <td>💥💥💥</td>\n      <td>1</td>\n      <td>5.20100</td>\n      <td>2023-11-09 18:51:52.578000</td>\n      <td>Failure</td>\n      <td>-0.711402</td>\n    </tr>\n    <tr>\n      <th>1</th>\n      <td>1</td>\n      <td>ANTUSDT</td>\n      <td>💥💥💥</td>\n      <td>1</td>\n      <td>5.20100</td>\n      <td>2023-11-09 18:51:52.578000</td>\n      <td>Failure</td>\n      <td>-0.711402</td>\n    </tr>\n    <tr>\n      <th>2</th>\n      <td>2</td>\n      <td>PENDLEUSDT</td>\n      <td>💥💥💥</td>\n      <td>1</td>\n      <td>1.04230</td>\n      <td>2023-11-09 18:50:35.789000</td>\n      <td>Failure</td>\n      <td>-0.316608</td>\n    </tr>\n    <tr>\n      <th>3</th>\n      <td>3</td>\n      <td>PENDLEUSDT</td>\n      <td>💥💥💥</td>\n      <td>1</td>\n      <td>1.04230</td>\n      <td>2023-11-09 18:50:35.789000</td>\n      <td>Failure</td>\n      <td>-0.316608</td>\n    </tr>\n    <tr>\n      <th>4</th>\n      <td>4</td>\n      <td>YFIUSDT</td>\n      <td>💥💥💥</td>\n      <td>1</td>\n      <td>6868.00000</td>\n      <td>2023-11-09 18:48:24.505000</td>\n      <td>Failure</td>\n      <td>-0.436808</td>\n    </tr>\n    <tr>\n      <th>...</th>\n      <td>...</td>\n      <td>...</td>\n      <td>...</td>\n      <td>...</td>\n      <td>...</td>\n      <td>...</td>\n      <td>...</td>\n      <td>...</td>\n    </tr>\n    <tr>\n      <th>96</th>\n      <td>96</td>\n      <td>AUDIOUSDT</td>\n      <td>💥💥💥</td>\n      <td>1</td>\n      <td>0.19150</td>\n      <td>2023-11-09 17:09:44.845000</td>\n      <td>Failure</td>\n      <td>0.000000</td>\n    </tr>\n    <tr>\n      <th>97</th>\n      <td>97</td>\n      <td>AUDIOUSDT</td>\n      <td>💥💥💥</td>\n      <td>1</td>\n      <td>0.19150</td>\n      <td>2023-11-09 17:09:44.845000</td>\n      <td>Failure</td>\n      <td>0.000000</td>\n    </tr>\n    <tr>\n      <th>98</th>\n      <td>98</td>\n      <td>SKLUSDT</td>\n      <td>🌊🌊🌊</td>\n      <td>2</td>\n      <td>0.03009</td>\n      <td>2023-11-09 17:01:41.917000</td>\n      <td>alert_price 0.03009 not in low-high range: 0.0...</td>\n      <td>NaN</td>\n    </tr>\n    <tr>\n      <th>99</th>\n      <td>99</td>\n      <td>GMXUSDT</td>\n      <td>🌊🌊🌊</td>\n      <td>2</td>\n      <td>50.42000</td>\n      <td>2023-11-09 17:01:33.226000</td>\n      <td>alert_price 50.42 not in low-high range: 50.24...</td>\n      <td>NaN</td>\n    </tr>\n    <tr>\n      <th>100</th>\n      <td>100</td>\n      <td>GMXUSDT</td>\n      <td>🌊🌊🌊</td>\n      <td>2</td>\n      <td>50.42000</td>\n      <td>2023-11-09 17:01:33.226000</td>\n      <td>alert_price 50.42 not in low-high range: 50.24...</td>\n      <td>NaN</td>\n    </tr>\n  </tbody>\n</table>\n<p>101 rows × 8 columns</p>\n</div>"
     },
     "execution_count": 7,
     "metadata": {},
     "output_type": "execute_result"
    }
   ],
   "source": [
    "final_df"
   ],
   "metadata": {
    "collapsed": false,
    "pycharm": {
     "name": "#%%\n"
    }
   }
  },
  {
   "cell_type": "code",
   "execution_count": 8,
   "outputs": [
    {
     "data": {
      "text/plain": "                                                    id  symbol  emoji  kline  \\\nstatus                                                                         \nFailure                                             55      55     55     55   \nSuccess                                              1       1      1      1   \nalert_price 0.0005598 not in low-high range: 0....   1       1      1      1   \nalert_price 0.0005599 not in low-high range: 0....   1       1      1      1   \nalert_price 0.0013758 not in low-high range: 0....   2       2      2      2   \nalert_price 0.01566 not in low-high range: 0.01...   1       1      1      1   \nalert_price 0.02076 not in low-high range: 0.02...   1       1      1      1   \nalert_price 0.02076 not in low-high range: 0.02...   1       1      1      1   \nalert_price 0.0265 not in low-high range: 0.026...   1       1      1      1   \nalert_price 0.03009 not in low-high range: 0.03...   1       1      1      1   \nalert_price 0.04603 not in low-high range: 0.04...   2       2      2      2   \nalert_price 0.06126 not in low-high range: 0.06...   1       1      1      1   \nalert_price 0.14227 not in low-high range: 0.14...   1       1      1      1   \nalert_price 0.2708 not in low-high range: 0.271...   2       2      2      2   \nalert_price 0.3124 not in low-high range: 0.309...   1       1      1      1   \nalert_price 0.3604 not in low-high range: 0.360...   2       2      2      2   \nalert_price 0.4081 not in low-high range: 0.404...   1       1      1      1   \nalert_price 0.5638 not in low-high range: 0.510...   1       1      1      1   \nalert_price 0.5918 not in low-high range: 0.592...   1       1      1      1   \nalert_price 0.5968 not in low-high range: 0.594...   1       1      1      1   \nalert_price 0.7085 not in low-high range: 0.705...   1       1      1      1   \nalert_price 0.7441 not in low-high range: 0.741...   1       1      1      1   \nalert_price 0.7675 not in low-high range: 0.722...   1       1      1      1   \nalert_price 0.9237 not in low-high range: 0.858...   1       1      1      1   \nalert_price 1.597 not in low-high range: 1.605-...   1       1      1      1   \nalert_price 1.6073 not in low-high range: 1.590...   1       1      1      1   \nalert_price 12.62 not in low-high range: 12.27-...   1       1      1      1   \nalert_price 12.62 not in low-high range: 12.566...   1       1      1      1   \nalert_price 1373.7 not in low-high range: 1375....   2       2      2      2   \nalert_price 141.834 not in low-high range: 140....   1       1      1      1   \nalert_price 1984.92 not in low-high range: 2051...   1       1      1      1   \nalert_price 2012.64 not in low-high range: 2016...   1       1      1      1   \nalert_price 37900.0 not in low-high range: 3628...   1       1      1      1   \nalert_price 37900.0 not in low-high range: 3750...   1       1      1      1   \nalert_price 37976.4 not in low-high range: 3657...   1       1      1      1   \nalert_price 50.42 not in low-high range: 50.24-...   2       2      2      2   \nalert_price 51.21 not in low-high range: 51.47-...   1       1      1      1   \nalert_price 54.92 not in low-high range: 55.19-...   1       1      1      1   \nalert_price 7.218 not in low-high range: 7.224-...   1       1      1      1   \nalert_price 7.84 not in low-high range: 7.406-7...   1       1      1      1   \nalert_price 7.84 not in low-high range: 7.793-7...   1       1      1      1   \n\n                                                    alert_price  Time_(MSK)  \\\nstatus                                                                        \nFailure                                                      55          55   \nSuccess                                                       1           1   \nalert_price 0.0005598 not in low-high range: 0....            1           1   \nalert_price 0.0005599 not in low-high range: 0....            1           1   \nalert_price 0.0013758 not in low-high range: 0....            2           2   \nalert_price 0.01566 not in low-high range: 0.01...            1           1   \nalert_price 0.02076 not in low-high range: 0.02...            1           1   \nalert_price 0.02076 not in low-high range: 0.02...            1           1   \nalert_price 0.0265 not in low-high range: 0.026...            1           1   \nalert_price 0.03009 not in low-high range: 0.03...            1           1   \nalert_price 0.04603 not in low-high range: 0.04...            2           2   \nalert_price 0.06126 not in low-high range: 0.06...            1           1   \nalert_price 0.14227 not in low-high range: 0.14...            1           1   \nalert_price 0.2708 not in low-high range: 0.271...            2           2   \nalert_price 0.3124 not in low-high range: 0.309...            1           1   \nalert_price 0.3604 not in low-high range: 0.360...            2           2   \nalert_price 0.4081 not in low-high range: 0.404...            1           1   \nalert_price 0.5638 not in low-high range: 0.510...            1           1   \nalert_price 0.5918 not in low-high range: 0.592...            1           1   \nalert_price 0.5968 not in low-high range: 0.594...            1           1   \nalert_price 0.7085 not in low-high range: 0.705...            1           1   \nalert_price 0.7441 not in low-high range: 0.741...            1           1   \nalert_price 0.7675 not in low-high range: 0.722...            1           1   \nalert_price 0.9237 not in low-high range: 0.858...            1           1   \nalert_price 1.597 not in low-high range: 1.605-...            1           1   \nalert_price 1.6073 not in low-high range: 1.590...            1           1   \nalert_price 12.62 not in low-high range: 12.27-...            1           1   \nalert_price 12.62 not in low-high range: 12.566...            1           1   \nalert_price 1373.7 not in low-high range: 1375....            2           2   \nalert_price 141.834 not in low-high range: 140....            1           1   \nalert_price 1984.92 not in low-high range: 2051...            1           1   \nalert_price 2012.64 not in low-high range: 2016...            1           1   \nalert_price 37900.0 not in low-high range: 3628...            1           1   \nalert_price 37900.0 not in low-high range: 3750...            1           1   \nalert_price 37976.4 not in low-high range: 3657...            1           1   \nalert_price 50.42 not in low-high range: 50.24-...            2           2   \nalert_price 51.21 not in low-high range: 51.47-...            1           1   \nalert_price 54.92 not in low-high range: 55.19-...            1           1   \nalert_price 7.218 not in low-high range: 7.224-...            1           1   \nalert_price 7.84 not in low-high range: 7.406-7...            1           1   \nalert_price 7.84 not in low-high range: 7.793-7...            1           1   \n\n                                                    price_change  \nstatus                                                            \nFailure                                                       55  \nSuccess                                                        1  \nalert_price 0.0005598 not in low-high range: 0....             0  \nalert_price 0.0005599 not in low-high range: 0....             0  \nalert_price 0.0013758 not in low-high range: 0....             0  \nalert_price 0.01566 not in low-high range: 0.01...             0  \nalert_price 0.02076 not in low-high range: 0.02...             0  \nalert_price 0.02076 not in low-high range: 0.02...             0  \nalert_price 0.0265 not in low-high range: 0.026...             0  \nalert_price 0.03009 not in low-high range: 0.03...             0  \nalert_price 0.04603 not in low-high range: 0.04...             0  \nalert_price 0.06126 not in low-high range: 0.06...             0  \nalert_price 0.14227 not in low-high range: 0.14...             0  \nalert_price 0.2708 not in low-high range: 0.271...             0  \nalert_price 0.3124 not in low-high range: 0.309...             0  \nalert_price 0.3604 not in low-high range: 0.360...             0  \nalert_price 0.4081 not in low-high range: 0.404...             0  \nalert_price 0.5638 not in low-high range: 0.510...             0  \nalert_price 0.5918 not in low-high range: 0.592...             0  \nalert_price 0.5968 not in low-high range: 0.594...             0  \nalert_price 0.7085 not in low-high range: 0.705...             0  \nalert_price 0.7441 not in low-high range: 0.741...             0  \nalert_price 0.7675 not in low-high range: 0.722...             0  \nalert_price 0.9237 not in low-high range: 0.858...             0  \nalert_price 1.597 not in low-high range: 1.605-...             0  \nalert_price 1.6073 not in low-high range: 1.590...             0  \nalert_price 12.62 not in low-high range: 12.27-...             0  \nalert_price 12.62 not in low-high range: 12.566...             0  \nalert_price 1373.7 not in low-high range: 1375....             0  \nalert_price 141.834 not in low-high range: 140....             0  \nalert_price 1984.92 not in low-high range: 2051...             0  \nalert_price 2012.64 not in low-high range: 2016...             0  \nalert_price 37900.0 not in low-high range: 3628...             0  \nalert_price 37900.0 not in low-high range: 3750...             0  \nalert_price 37976.4 not in low-high range: 3657...             0  \nalert_price 50.42 not in low-high range: 50.24-...             0  \nalert_price 51.21 not in low-high range: 51.47-...             0  \nalert_price 54.92 not in low-high range: 55.19-...             0  \nalert_price 7.218 not in low-high range: 7.224-...             0  \nalert_price 7.84 not in low-high range: 7.406-7...             0  \nalert_price 7.84 not in low-high range: 7.793-7...             0  ",
      "text/html": "<div>\n<style scoped>\n    .dataframe tbody tr th:only-of-type {\n        vertical-align: middle;\n    }\n\n    .dataframe tbody tr th {\n        vertical-align: top;\n    }\n\n    .dataframe thead th {\n        text-align: right;\n    }\n</style>\n<table border=\"1\" class=\"dataframe\">\n  <thead>\n    <tr style=\"text-align: right;\">\n      <th></th>\n      <th>id</th>\n      <th>symbol</th>\n      <th>emoji</th>\n      <th>kline</th>\n      <th>alert_price</th>\n      <th>Time_(MSK)</th>\n      <th>price_change</th>\n    </tr>\n    <tr>\n      <th>status</th>\n      <th></th>\n      <th></th>\n      <th></th>\n      <th></th>\n      <th></th>\n      <th></th>\n      <th></th>\n    </tr>\n  </thead>\n  <tbody>\n    <tr>\n      <th>Failure</th>\n      <td>55</td>\n      <td>55</td>\n      <td>55</td>\n      <td>55</td>\n      <td>55</td>\n      <td>55</td>\n      <td>55</td>\n    </tr>\n    <tr>\n      <th>Success</th>\n      <td>1</td>\n      <td>1</td>\n      <td>1</td>\n      <td>1</td>\n      <td>1</td>\n      <td>1</td>\n      <td>1</td>\n    </tr>\n    <tr>\n      <th>alert_price 0.0005598 not in low-high range: 0.0005601-0.0005647</th>\n      <td>1</td>\n      <td>1</td>\n      <td>1</td>\n      <td>1</td>\n      <td>1</td>\n      <td>1</td>\n      <td>0</td>\n    </tr>\n    <tr>\n      <th>alert_price 0.0005599 not in low-high range: 0.0005601-0.0005647</th>\n      <td>1</td>\n      <td>1</td>\n      <td>1</td>\n      <td>1</td>\n      <td>1</td>\n      <td>1</td>\n      <td>0</td>\n    </tr>\n    <tr>\n      <th>alert_price 0.0013758 not in low-high range: 0.0013864-0.0014114</th>\n      <td>2</td>\n      <td>2</td>\n      <td>2</td>\n      <td>2</td>\n      <td>2</td>\n      <td>2</td>\n      <td>0</td>\n    </tr>\n    <tr>\n      <th>alert_price 0.01566 not in low-high range: 0.01451-0.01455</th>\n      <td>1</td>\n      <td>1</td>\n      <td>1</td>\n      <td>1</td>\n      <td>1</td>\n      <td>1</td>\n      <td>0</td>\n    </tr>\n    <tr>\n      <th>alert_price 0.02076 not in low-high range: 0.0208-0.02099</th>\n      <td>1</td>\n      <td>1</td>\n      <td>1</td>\n      <td>1</td>\n      <td>1</td>\n      <td>1</td>\n      <td>0</td>\n    </tr>\n    <tr>\n      <th>alert_price 0.02076 not in low-high range: 0.02136-0.02156</th>\n      <td>1</td>\n      <td>1</td>\n      <td>1</td>\n      <td>1</td>\n      <td>1</td>\n      <td>1</td>\n      <td>0</td>\n    </tr>\n    <tr>\n      <th>alert_price 0.0265 not in low-high range: 0.02641-0.02647</th>\n      <td>1</td>\n      <td>1</td>\n      <td>1</td>\n      <td>1</td>\n      <td>1</td>\n      <td>1</td>\n      <td>0</td>\n    </tr>\n    <tr>\n      <th>alert_price 0.03009 not in low-high range: 0.03-0.03005</th>\n      <td>1</td>\n      <td>1</td>\n      <td>1</td>\n      <td>1</td>\n      <td>1</td>\n      <td>1</td>\n      <td>0</td>\n    </tr>\n    <tr>\n      <th>alert_price 0.04603 not in low-high range: 0.0459-0.04599</th>\n      <td>2</td>\n      <td>2</td>\n      <td>2</td>\n      <td>2</td>\n      <td>2</td>\n      <td>2</td>\n      <td>0</td>\n    </tr>\n    <tr>\n      <th>alert_price 0.06126 not in low-high range: 0.06129-0.06138</th>\n      <td>1</td>\n      <td>1</td>\n      <td>1</td>\n      <td>1</td>\n      <td>1</td>\n      <td>1</td>\n      <td>0</td>\n    </tr>\n    <tr>\n      <th>alert_price 0.14227 not in low-high range: 0.14194-0.14208</th>\n      <td>1</td>\n      <td>1</td>\n      <td>1</td>\n      <td>1</td>\n      <td>1</td>\n      <td>1</td>\n      <td>0</td>\n    </tr>\n    <tr>\n      <th>alert_price 0.2708 not in low-high range: 0.2715-0.2742</th>\n      <td>2</td>\n      <td>2</td>\n      <td>2</td>\n      <td>2</td>\n      <td>2</td>\n      <td>2</td>\n      <td>0</td>\n    </tr>\n    <tr>\n      <th>alert_price 0.3124 not in low-high range: 0.3098-0.3123</th>\n      <td>1</td>\n      <td>1</td>\n      <td>1</td>\n      <td>1</td>\n      <td>1</td>\n      <td>1</td>\n      <td>0</td>\n    </tr>\n    <tr>\n      <th>alert_price 0.3604 not in low-high range: 0.3607-0.3618</th>\n      <td>2</td>\n      <td>2</td>\n      <td>2</td>\n      <td>2</td>\n      <td>2</td>\n      <td>2</td>\n      <td>0</td>\n    </tr>\n    <tr>\n      <th>alert_price 0.4081 not in low-high range: 0.4046-0.4074</th>\n      <td>1</td>\n      <td>1</td>\n      <td>1</td>\n      <td>1</td>\n      <td>1</td>\n      <td>1</td>\n      <td>0</td>\n    </tr>\n    <tr>\n      <th>alert_price 0.5638 not in low-high range: 0.5103-0.513</th>\n      <td>1</td>\n      <td>1</td>\n      <td>1</td>\n      <td>1</td>\n      <td>1</td>\n      <td>1</td>\n      <td>0</td>\n    </tr>\n    <tr>\n      <th>alert_price 0.5918 not in low-high range: 0.5928-0.5982</th>\n      <td>1</td>\n      <td>1</td>\n      <td>1</td>\n      <td>1</td>\n      <td>1</td>\n      <td>1</td>\n      <td>0</td>\n    </tr>\n    <tr>\n      <th>alert_price 0.5968 not in low-high range: 0.5943-0.5964</th>\n      <td>1</td>\n      <td>1</td>\n      <td>1</td>\n      <td>1</td>\n      <td>1</td>\n      <td>1</td>\n      <td>0</td>\n    </tr>\n    <tr>\n      <th>alert_price 0.7085 not in low-high range: 0.7058-0.7078</th>\n      <td>1</td>\n      <td>1</td>\n      <td>1</td>\n      <td>1</td>\n      <td>1</td>\n      <td>1</td>\n      <td>0</td>\n    </tr>\n    <tr>\n      <th>alert_price 0.7441 not in low-high range: 0.7411-0.7435</th>\n      <td>1</td>\n      <td>1</td>\n      <td>1</td>\n      <td>1</td>\n      <td>1</td>\n      <td>1</td>\n      <td>0</td>\n    </tr>\n    <tr>\n      <th>alert_price 0.7675 not in low-high range: 0.7223-0.7243</th>\n      <td>1</td>\n      <td>1</td>\n      <td>1</td>\n      <td>1</td>\n      <td>1</td>\n      <td>1</td>\n      <td>0</td>\n    </tr>\n    <tr>\n      <th>alert_price 0.9237 not in low-high range: 0.8584-0.8619</th>\n      <td>1</td>\n      <td>1</td>\n      <td>1</td>\n      <td>1</td>\n      <td>1</td>\n      <td>1</td>\n      <td>0</td>\n    </tr>\n    <tr>\n      <th>alert_price 1.597 not in low-high range: 1.605-1.616</th>\n      <td>1</td>\n      <td>1</td>\n      <td>1</td>\n      <td>1</td>\n      <td>1</td>\n      <td>1</td>\n      <td>0</td>\n    </tr>\n    <tr>\n      <th>alert_price 1.6073 not in low-high range: 1.5904-1.6071</th>\n      <td>1</td>\n      <td>1</td>\n      <td>1</td>\n      <td>1</td>\n      <td>1</td>\n      <td>1</td>\n      <td>0</td>\n    </tr>\n    <tr>\n      <th>alert_price 12.62 not in low-high range: 12.27-12.369</th>\n      <td>1</td>\n      <td>1</td>\n      <td>1</td>\n      <td>1</td>\n      <td>1</td>\n      <td>1</td>\n      <td>0</td>\n    </tr>\n    <tr>\n      <th>alert_price 12.62 not in low-high range: 12.566-12.588</th>\n      <td>1</td>\n      <td>1</td>\n      <td>1</td>\n      <td>1</td>\n      <td>1</td>\n      <td>1</td>\n      <td>0</td>\n    </tr>\n    <tr>\n      <th>alert_price 1373.7 not in low-high range: 1375.2-1381.1</th>\n      <td>2</td>\n      <td>2</td>\n      <td>2</td>\n      <td>2</td>\n      <td>2</td>\n      <td>2</td>\n      <td>0</td>\n    </tr>\n    <tr>\n      <th>alert_price 141.834 not in low-high range: 140.614-141.514</th>\n      <td>1</td>\n      <td>1</td>\n      <td>1</td>\n      <td>1</td>\n      <td>1</td>\n      <td>1</td>\n      <td>0</td>\n    </tr>\n    <tr>\n      <th>alert_price 1984.92 not in low-high range: 2051.31-2052.99</th>\n      <td>1</td>\n      <td>1</td>\n      <td>1</td>\n      <td>1</td>\n      <td>1</td>\n      <td>1</td>\n      <td>0</td>\n    </tr>\n    <tr>\n      <th>alert_price 2012.64 not in low-high range: 2016.66-2058.15</th>\n      <td>1</td>\n      <td>1</td>\n      <td>1</td>\n      <td>1</td>\n      <td>1</td>\n      <td>1</td>\n      <td>0</td>\n    </tr>\n    <tr>\n      <th>alert_price 37900.0 not in low-high range: 36288.4-36356.8</th>\n      <td>1</td>\n      <td>1</td>\n      <td>1</td>\n      <td>1</td>\n      <td>1</td>\n      <td>1</td>\n      <td>0</td>\n    </tr>\n    <tr>\n      <th>alert_price 37900.0 not in low-high range: 37500-37782.2</th>\n      <td>1</td>\n      <td>1</td>\n      <td>1</td>\n      <td>1</td>\n      <td>1</td>\n      <td>1</td>\n      <td>0</td>\n    </tr>\n    <tr>\n      <th>alert_price 37976.4 not in low-high range: 36570-36592</th>\n      <td>1</td>\n      <td>1</td>\n      <td>1</td>\n      <td>1</td>\n      <td>1</td>\n      <td>1</td>\n      <td>0</td>\n    </tr>\n    <tr>\n      <th>alert_price 50.42 not in low-high range: 50.24-50.38</th>\n      <td>2</td>\n      <td>2</td>\n      <td>2</td>\n      <td>2</td>\n      <td>2</td>\n      <td>2</td>\n      <td>0</td>\n    </tr>\n    <tr>\n      <th>alert_price 51.21 not in low-high range: 51.47-51.51</th>\n      <td>1</td>\n      <td>1</td>\n      <td>1</td>\n      <td>1</td>\n      <td>1</td>\n      <td>1</td>\n      <td>0</td>\n    </tr>\n    <tr>\n      <th>alert_price 54.92 not in low-high range: 55.19-55.5</th>\n      <td>1</td>\n      <td>1</td>\n      <td>1</td>\n      <td>1</td>\n      <td>1</td>\n      <td>1</td>\n      <td>0</td>\n    </tr>\n    <tr>\n      <th>alert_price 7.218 not in low-high range: 7.224-7.236</th>\n      <td>1</td>\n      <td>1</td>\n      <td>1</td>\n      <td>1</td>\n      <td>1</td>\n      <td>1</td>\n      <td>0</td>\n    </tr>\n    <tr>\n      <th>alert_price 7.84 not in low-high range: 7.406-7.447</th>\n      <td>1</td>\n      <td>1</td>\n      <td>1</td>\n      <td>1</td>\n      <td>1</td>\n      <td>1</td>\n      <td>0</td>\n    </tr>\n    <tr>\n      <th>alert_price 7.84 not in low-high range: 7.793-7.821</th>\n      <td>1</td>\n      <td>1</td>\n      <td>1</td>\n      <td>1</td>\n      <td>1</td>\n      <td>1</td>\n      <td>0</td>\n    </tr>\n  </tbody>\n</table>\n</div>"
     },
     "execution_count": 8,
     "metadata": {},
     "output_type": "execute_result"
    }
   ],
   "source": [
    "status_counts = final_df.groupby('status').count()\n",
    "status_counts"
   ],
   "metadata": {
    "collapsed": false,
    "pycharm": {
     "name": "#%%\n"
    }
   }
  },
  {
   "cell_type": "code",
   "execution_count": 9,
   "outputs": [
    {
     "data": {
      "text/plain": "'Количество успешных сигналов: 1'"
     },
     "execution_count": 9,
     "metadata": {},
     "output_type": "execute_result"
    }
   ],
   "source": [
    "success_count = status_counts.loc['Success', 'kline']\n",
    "f'Количество успешных сигналов: {success_count}'"
   ],
   "metadata": {
    "collapsed": false,
    "pycharm": {
     "name": "#%%\n"
    }
   }
  },
  {
   "cell_type": "code",
   "execution_count": 14,
   "outputs": [],
   "source": [
    "async def calculate_rsi_for_row(symbol, time, interval='1m', period=14):\n",
    "    start_time = convert_time_to_utc_millis(time)\n",
    "    historical_data = await get_previous_data(symbol, start_time, interval, period)\n",
    "    close_prices_list = [item['Close'] for item in historical_data]\n",
    "    rsi_values = json.loads(calculate_rsi(close_prices_list))\n",
    "    return rsi_values['rsi_list'][-1]  # Returns the latest RSI value\n",
    "\n",
    "async def append_rsi_to_dataframe(df):\n",
    "    rsi_data = []\n",
    "    for _, row in df.iterrows():\n",
    "        rsi_value = await calculate_rsi_for_row(row['symbol'], row['Time_(MSK)'])\n",
    "        rsi_data.append({'id': row['id'], 'RSI': rsi_value})\n",
    "\n",
    "    rsi_df = pd.DataFrame(rsi_data)\n",
    "    merged_df = pd.merge(df, rsi_df, on='id')\n",
    "    return merged_df\n",
    "\n",
    "# Calculate and append RSI values\n",
    "final_df_with_rsi = await append_rsi_to_dataframe(final_df)"
   ],
   "metadata": {
    "collapsed": false,
    "pycharm": {
     "name": "#%%\n"
    }
   }
  },
  {
   "cell_type": "code",
   "execution_count": 15,
   "outputs": [
    {
     "data": {
      "text/plain": "      id      symbol emoji  kline  alert_price                  Time_(MSK)  \\\n0      0     ANTUSDT   💥💥💥      1      5.20100  2023-11-09 18:51:52.578000   \n1      1     ANTUSDT   💥💥💥      1      5.20100  2023-11-09 18:51:52.578000   \n2      2  PENDLEUSDT   💥💥💥      1      1.04230  2023-11-09 18:50:35.789000   \n3      3  PENDLEUSDT   💥💥💥      1      1.04230  2023-11-09 18:50:35.789000   \n4      4     YFIUSDT   💥💥💥      1   6868.00000  2023-11-09 18:48:24.505000   \n..   ...         ...   ...    ...          ...                         ...   \n96    96   AUDIOUSDT   💥💥💥      1      0.19150  2023-11-09 17:09:44.845000   \n97    97   AUDIOUSDT   💥💥💥      1      0.19150  2023-11-09 17:09:44.845000   \n98    98     SKLUSDT   🌊🌊🌊      2      0.03009  2023-11-09 17:01:41.917000   \n99    99     GMXUSDT   🌊🌊🌊      2     50.42000  2023-11-09 17:01:33.226000   \n100  100     GMXUSDT   🌊🌊🌊      2     50.42000  2023-11-09 17:01:33.226000   \n\n                                                status  price_change  \\\n0                                              Failure     -0.711402   \n1                                              Failure     -0.711402   \n2                                              Failure     -0.316608   \n3                                              Failure     -0.316608   \n4                                              Failure     -0.436808   \n..                                                 ...           ...   \n96                                             Failure      0.000000   \n97                                             Failure      0.000000   \n98   alert_price 0.03009 not in low-high range: 0.0...           NaN   \n99   alert_price 50.42 not in low-high range: 50.24...           NaN   \n100  alert_price 50.42 not in low-high range: 50.24...           NaN   \n\n           RSI  \n0    66.842105  \n1    66.842105  \n2    70.331950  \n3    70.331950  \n4    60.765550  \n..         ...  \n96   76.470588  \n97   76.470588  \n98   90.697674  \n99   77.551020  \n100  77.551020  \n\n[101 rows x 9 columns]",
      "text/html": "<div>\n<style scoped>\n    .dataframe tbody tr th:only-of-type {\n        vertical-align: middle;\n    }\n\n    .dataframe tbody tr th {\n        vertical-align: top;\n    }\n\n    .dataframe thead th {\n        text-align: right;\n    }\n</style>\n<table border=\"1\" class=\"dataframe\">\n  <thead>\n    <tr style=\"text-align: right;\">\n      <th></th>\n      <th>id</th>\n      <th>symbol</th>\n      <th>emoji</th>\n      <th>kline</th>\n      <th>alert_price</th>\n      <th>Time_(MSK)</th>\n      <th>status</th>\n      <th>price_change</th>\n      <th>RSI</th>\n    </tr>\n  </thead>\n  <tbody>\n    <tr>\n      <th>0</th>\n      <td>0</td>\n      <td>ANTUSDT</td>\n      <td>💥💥💥</td>\n      <td>1</td>\n      <td>5.20100</td>\n      <td>2023-11-09 18:51:52.578000</td>\n      <td>Failure</td>\n      <td>-0.711402</td>\n      <td>66.842105</td>\n    </tr>\n    <tr>\n      <th>1</th>\n      <td>1</td>\n      <td>ANTUSDT</td>\n      <td>💥💥💥</td>\n      <td>1</td>\n      <td>5.20100</td>\n      <td>2023-11-09 18:51:52.578000</td>\n      <td>Failure</td>\n      <td>-0.711402</td>\n      <td>66.842105</td>\n    </tr>\n    <tr>\n      <th>2</th>\n      <td>2</td>\n      <td>PENDLEUSDT</td>\n      <td>💥💥💥</td>\n      <td>1</td>\n      <td>1.04230</td>\n      <td>2023-11-09 18:50:35.789000</td>\n      <td>Failure</td>\n      <td>-0.316608</td>\n      <td>70.331950</td>\n    </tr>\n    <tr>\n      <th>3</th>\n      <td>3</td>\n      <td>PENDLEUSDT</td>\n      <td>💥💥💥</td>\n      <td>1</td>\n      <td>1.04230</td>\n      <td>2023-11-09 18:50:35.789000</td>\n      <td>Failure</td>\n      <td>-0.316608</td>\n      <td>70.331950</td>\n    </tr>\n    <tr>\n      <th>4</th>\n      <td>4</td>\n      <td>YFIUSDT</td>\n      <td>💥💥💥</td>\n      <td>1</td>\n      <td>6868.00000</td>\n      <td>2023-11-09 18:48:24.505000</td>\n      <td>Failure</td>\n      <td>-0.436808</td>\n      <td>60.765550</td>\n    </tr>\n    <tr>\n      <th>...</th>\n      <td>...</td>\n      <td>...</td>\n      <td>...</td>\n      <td>...</td>\n      <td>...</td>\n      <td>...</td>\n      <td>...</td>\n      <td>...</td>\n      <td>...</td>\n    </tr>\n    <tr>\n      <th>96</th>\n      <td>96</td>\n      <td>AUDIOUSDT</td>\n      <td>💥💥💥</td>\n      <td>1</td>\n      <td>0.19150</td>\n      <td>2023-11-09 17:09:44.845000</td>\n      <td>Failure</td>\n      <td>0.000000</td>\n      <td>76.470588</td>\n    </tr>\n    <tr>\n      <th>97</th>\n      <td>97</td>\n      <td>AUDIOUSDT</td>\n      <td>💥💥💥</td>\n      <td>1</td>\n      <td>0.19150</td>\n      <td>2023-11-09 17:09:44.845000</td>\n      <td>Failure</td>\n      <td>0.000000</td>\n      <td>76.470588</td>\n    </tr>\n    <tr>\n      <th>98</th>\n      <td>98</td>\n      <td>SKLUSDT</td>\n      <td>🌊🌊🌊</td>\n      <td>2</td>\n      <td>0.03009</td>\n      <td>2023-11-09 17:01:41.917000</td>\n      <td>alert_price 0.03009 not in low-high range: 0.0...</td>\n      <td>NaN</td>\n      <td>90.697674</td>\n    </tr>\n    <tr>\n      <th>99</th>\n      <td>99</td>\n      <td>GMXUSDT</td>\n      <td>🌊🌊🌊</td>\n      <td>2</td>\n      <td>50.42000</td>\n      <td>2023-11-09 17:01:33.226000</td>\n      <td>alert_price 50.42 not in low-high range: 50.24...</td>\n      <td>NaN</td>\n      <td>77.551020</td>\n    </tr>\n    <tr>\n      <th>100</th>\n      <td>100</td>\n      <td>GMXUSDT</td>\n      <td>🌊🌊🌊</td>\n      <td>2</td>\n      <td>50.42000</td>\n      <td>2023-11-09 17:01:33.226000</td>\n      <td>alert_price 50.42 not in low-high range: 50.24...</td>\n      <td>NaN</td>\n      <td>77.551020</td>\n    </tr>\n  </tbody>\n</table>\n<p>101 rows × 9 columns</p>\n</div>"
     },
     "execution_count": 15,
     "metadata": {},
     "output_type": "execute_result"
    }
   ],
   "source": [
    "final_df_with_rsi"
   ],
   "metadata": {
    "collapsed": false,
    "pycharm": {
     "name": "#%%\n"
    }
   }
  },
  {
   "cell_type": "code",
   "execution_count": 58,
   "outputs": [],
   "source": [],
   "metadata": {
    "collapsed": false,
    "pycharm": {
     "name": "#%%\n"
    }
   }
  }
 ],
 "metadata": {
  "kernelspec": {
   "display_name": "Python 3",
   "language": "python",
   "name": "python3"
  },
  "language_info": {
   "codemirror_mode": {
    "name": "ipython",
    "version": 2
   },
   "file_extension": ".py",
   "mimetype": "text/x-python",
   "name": "python",
   "nbconvert_exporter": "python",
   "pygments_lexer": "ipython2",
   "version": "2.7.6"
  }
 },
 "nbformat": 4,
 "nbformat_minor": 0
}